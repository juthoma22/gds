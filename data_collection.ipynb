{
 "cells": [
  {
   "attachments": {},
   "cell_type": "markdown",
   "metadata": {},
   "source": [
    "# GDS Project Data collection and proccesing"
   ]
  },
  {
   "attachments": {},
   "cell_type": "markdown",
   "metadata": {},
   "source": [
    "### Environment setup\n",
    "+ am besten benutzen wir jeweils das aus der Vorlesung, ohne es neu aufzusetzen\n",
    "\n",
    "### Data collection\n",
    "+ Tobias hat die Daten\n",
    "\n",
    "### Exploratoy data analysis\n",
    "+ Was für ein Format\n",
    "+ Haben wir geopandas kompatible Daten or muss etwas konvertiert werden\n",
    "\n",
    "### Data processing\n",
    "+ csv -> geopandas\n",
    "+ geometry ggf. anpassen\n",
    "\n",
    "## Analyse\n",
    "### Cluster Analyse?\n",
    "### Andere Analysen?"
   ]
  },
  {
   "cell_type": "code",
   "execution_count": null,
   "metadata": {
    "vscode": {
     "languageId": "plaintext"
    }
   },
   "outputs": [],
   "source": [
    "# csv file laden"
   ]
  }
 ],
 "metadata": {
  "language_info": {
   "name": "python"
  },
  "orig_nbformat": 4
 },
 "nbformat": 4,
 "nbformat_minor": 2
}
