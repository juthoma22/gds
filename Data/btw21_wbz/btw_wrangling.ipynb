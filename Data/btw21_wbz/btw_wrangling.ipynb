{
 "cells": [
  {
   "cell_type": "code",
   "execution_count": 75,
   "metadata": {},
   "outputs": [],
   "source": [
    "import pandas as pd\n",
    "import numpy as np\n",
    "import geopandas as gpd\n",
    "import os\n",
    "import re"
   ]
  },
  {
   "cell_type": "code",
   "execution_count": 125,
   "metadata": {},
   "outputs": [
    {
     "name": "stderr",
     "output_type": "stream",
     "text": [
      "/var/folders/11/nm6kpssd7xzgy74kn2x39xx80000gn/T/ipykernel_40201/1320742179.py:1: DtypeWarning: Columns (0,1,2,3,4,5,6,7,9,10,11,12,13,14,15,16,17,18,19,20,21,22,23,24,25,26,27,28,29,30,31,32,33,34,35,36,37,38,39,40,41,42,43,44,45,46,47,48,49,50,51,52,53,54,55,56,57,58,59,60,61,62,63,64,65,66,67,68,69,70,71,72,73,74,75,76,77,78,79,80,81,82,83,84,85,86,87,88,89,90,91,92,93,94,95,96,97,98,99,100,101,102,103,104,105,106) have mixed types. Specify dtype option on import or set low_memory=False.\n",
      "  btw_df = pd.read_csv('btw21_wbz_ergebnisse.csv', delimiter=';', header=None)\n"
     ]
    }
   ],
   "source": [
    "btw_df = pd.read_csv('btw21_wbz_ergebnisse.csv', delimiter=';', header=None)\n",
    "\n",
    "btw_df.columns = [str(i) + ' ' + str(j) if j is not np.nan else str(i) for i,j in zip(btw_df.loc[[0]].values.flatten(), btw_df.loc[[1]].values.flatten())]\n",
    "\n",
    "btw_df = btw_df.drop([0,1])"
   ]
  },
  {
   "cell_type": "code",
   "execution_count": 126,
   "metadata": {},
   "outputs": [],
   "source": [
    "btw_df = btw_df[btw_df['Land'] == '02']\n",
    "\n",
    "btw_df = btw_df.drop(btw_df.columns[list(range(11,65))], axis = 1)\n",
    "btw_df = btw_df.drop(btw_df.columns[list(range(18,53))], axis = 1)\n",
    "\n",
    "btw_df.columns = [\n",
    "    re.sub(' ', '_', \n",
    "    re.sub(' zweitstimmen', '', \n",
    "    str.lower(x))) for x in btw_df.columns]\n",
    "\n",
    "btw_df = btw_df[]"
   ]
  },
  {
   "cell_type": "code",
   "execution_count": 128,
   "metadata": {},
   "outputs": [
    {
     "data": {
      "text/plain": [
       "Index(['wahlkreis', 'land', 'regierungsbezirk', 'kreis', 'verbandsgemeinde',\n",
       "       'gemeinde', 'kennziffer_urnenwahlbezirke_nach_§_68_bwo',\n",
       "       'kennziffer_briefwahlzugehörigkeit', 'gemeinde_name', 'wahlbezirk',\n",
       "       'bezirksart', 'gültige', 'cdu', 'spd', 'afd', 'fdp', 'die_linke',\n",
       "       'grüne'],\n",
       "      dtype='object')"
      ]
     },
     "execution_count": 128,
     "metadata": {},
     "output_type": "execute_result"
    }
   ],
   "source": [
    "btw_df.columns"
   ]
  },
  {
   "cell_type": "code",
   "execution_count": 129,
   "metadata": {},
   "outputs": [
    {
     "ename": "TypeError",
     "evalue": "sum() takes at most 2 arguments (6 given)",
     "output_type": "error",
     "traceback": [
      "\u001b[0;31m---------------------------------------------------------------------------\u001b[0m",
      "\u001b[0;31mTypeError\u001b[0m                                 Traceback (most recent call last)",
      "Cell \u001b[0;32mIn[129], line 1\u001b[0m\n\u001b[0;32m----> 1\u001b[0m btw_df[\u001b[39m'\u001b[39m\u001b[39msonstige\u001b[39m\u001b[39m'\u001b[39m] \u001b[39m=\u001b[39m btw_df\u001b[39m.\u001b[39;49mapply(\u001b[39mlambda\u001b[39;49;00m x: \u001b[39mint\u001b[39;49m(x\u001b[39m.\u001b[39;49mgültige) \u001b[39m-\u001b[39;49m \u001b[39msum\u001b[39;49m(x\u001b[39m.\u001b[39;49mcdu, x\u001b[39m.\u001b[39;49mspd, x\u001b[39m.\u001b[39;49mafd, x\u001b[39m.\u001b[39;49mfdp, x\u001b[39m.\u001b[39;49mdie_linke, x\u001b[39m.\u001b[39;49mgrüne), axis \u001b[39m=\u001b[39;49m \u001b[39m1\u001b[39;49m)\n\u001b[1;32m      3\u001b[0m \u001b[39m# btw_df = btw_df[['Kreis', 'Gültige Zweitstimmen', 'CDU Zweitstimmen', ]]\u001b[39;00m\n",
      "File \u001b[0;32m~/opt/miniconda3/envs/geospatial/lib/python3.9/site-packages/pandas/core/frame.py:9568\u001b[0m, in \u001b[0;36mDataFrame.apply\u001b[0;34m(self, func, axis, raw, result_type, args, **kwargs)\u001b[0m\n\u001b[1;32m   9557\u001b[0m \u001b[39mfrom\u001b[39;00m \u001b[39mpandas\u001b[39;00m\u001b[39m.\u001b[39;00m\u001b[39mcore\u001b[39;00m\u001b[39m.\u001b[39;00m\u001b[39mapply\u001b[39;00m \u001b[39mimport\u001b[39;00m frame_apply\n\u001b[1;32m   9559\u001b[0m op \u001b[39m=\u001b[39m frame_apply(\n\u001b[1;32m   9560\u001b[0m     \u001b[39mself\u001b[39m,\n\u001b[1;32m   9561\u001b[0m     func\u001b[39m=\u001b[39mfunc,\n\u001b[0;32m   (...)\u001b[0m\n\u001b[1;32m   9566\u001b[0m     kwargs\u001b[39m=\u001b[39mkwargs,\n\u001b[1;32m   9567\u001b[0m )\n\u001b[0;32m-> 9568\u001b[0m \u001b[39mreturn\u001b[39;00m op\u001b[39m.\u001b[39;49mapply()\u001b[39m.\u001b[39m__finalize__(\u001b[39mself\u001b[39m, method\u001b[39m=\u001b[39m\u001b[39m\"\u001b[39m\u001b[39mapply\u001b[39m\u001b[39m\"\u001b[39m)\n",
      "File \u001b[0;32m~/opt/miniconda3/envs/geospatial/lib/python3.9/site-packages/pandas/core/apply.py:764\u001b[0m, in \u001b[0;36mFrameApply.apply\u001b[0;34m(self)\u001b[0m\n\u001b[1;32m    761\u001b[0m \u001b[39melif\u001b[39;00m \u001b[39mself\u001b[39m\u001b[39m.\u001b[39mraw:\n\u001b[1;32m    762\u001b[0m     \u001b[39mreturn\u001b[39;00m \u001b[39mself\u001b[39m\u001b[39m.\u001b[39mapply_raw()\n\u001b[0;32m--> 764\u001b[0m \u001b[39mreturn\u001b[39;00m \u001b[39mself\u001b[39;49m\u001b[39m.\u001b[39;49mapply_standard()\n",
      "File \u001b[0;32m~/opt/miniconda3/envs/geospatial/lib/python3.9/site-packages/pandas/core/apply.py:891\u001b[0m, in \u001b[0;36mFrameApply.apply_standard\u001b[0;34m(self)\u001b[0m\n\u001b[1;32m    890\u001b[0m \u001b[39mdef\u001b[39;00m \u001b[39mapply_standard\u001b[39m(\u001b[39mself\u001b[39m):\n\u001b[0;32m--> 891\u001b[0m     results, res_index \u001b[39m=\u001b[39m \u001b[39mself\u001b[39;49m\u001b[39m.\u001b[39;49mapply_series_generator()\n\u001b[1;32m    893\u001b[0m     \u001b[39m# wrap results\u001b[39;00m\n\u001b[1;32m    894\u001b[0m     \u001b[39mreturn\u001b[39;00m \u001b[39mself\u001b[39m\u001b[39m.\u001b[39mwrap_results(results, res_index)\n",
      "File \u001b[0;32m~/opt/miniconda3/envs/geospatial/lib/python3.9/site-packages/pandas/core/apply.py:907\u001b[0m, in \u001b[0;36mFrameApply.apply_series_generator\u001b[0;34m(self)\u001b[0m\n\u001b[1;32m    904\u001b[0m \u001b[39mwith\u001b[39;00m option_context(\u001b[39m\"\u001b[39m\u001b[39mmode.chained_assignment\u001b[39m\u001b[39m\"\u001b[39m, \u001b[39mNone\u001b[39;00m):\n\u001b[1;32m    905\u001b[0m     \u001b[39mfor\u001b[39;00m i, v \u001b[39min\u001b[39;00m \u001b[39menumerate\u001b[39m(series_gen):\n\u001b[1;32m    906\u001b[0m         \u001b[39m# ignore SettingWithCopy here in case the user mutates\u001b[39;00m\n\u001b[0;32m--> 907\u001b[0m         results[i] \u001b[39m=\u001b[39m \u001b[39mself\u001b[39;49m\u001b[39m.\u001b[39;49mf(v)\n\u001b[1;32m    908\u001b[0m         \u001b[39mif\u001b[39;00m \u001b[39misinstance\u001b[39m(results[i], ABCSeries):\n\u001b[1;32m    909\u001b[0m             \u001b[39m# If we have a view on v, we need to make a copy because\u001b[39;00m\n\u001b[1;32m    910\u001b[0m             \u001b[39m#  series_generator will swap out the underlying data\u001b[39;00m\n\u001b[1;32m    911\u001b[0m             results[i] \u001b[39m=\u001b[39m results[i]\u001b[39m.\u001b[39mcopy(deep\u001b[39m=\u001b[39m\u001b[39mFalse\u001b[39;00m)\n",
      "Cell \u001b[0;32mIn[129], line 1\u001b[0m, in \u001b[0;36m<lambda>\u001b[0;34m(x)\u001b[0m\n\u001b[0;32m----> 1\u001b[0m btw_df[\u001b[39m'\u001b[39m\u001b[39msonstige\u001b[39m\u001b[39m'\u001b[39m] \u001b[39m=\u001b[39m btw_df\u001b[39m.\u001b[39mapply(\u001b[39mlambda\u001b[39;00m x: \u001b[39mint\u001b[39m(x\u001b[39m.\u001b[39mgültige) \u001b[39m-\u001b[39m \u001b[39msum\u001b[39;49m(x\u001b[39m.\u001b[39;49mcdu, x\u001b[39m.\u001b[39;49mspd, x\u001b[39m.\u001b[39;49mafd, x\u001b[39m.\u001b[39;49mfdp, x\u001b[39m.\u001b[39;49mdie_linke, x\u001b[39m.\u001b[39;49mgrüne), axis \u001b[39m=\u001b[39m \u001b[39m1\u001b[39m)\n\u001b[1;32m      3\u001b[0m \u001b[39m# btw_df = btw_df[['Kreis', 'Gültige Zweitstimmen', 'CDU Zweitstimmen', ]]\u001b[39;00m\n",
      "\u001b[0;31mTypeError\u001b[0m: sum() takes at most 2 arguments (6 given)"
     ]
    }
   ],
   "source": [
    "btw_df['sonstige'] = btw_df.apply(lambda x: int(x.gültige) - sum(x.cdu, x.spd, x.afd, x.fdp, x.die_linke, x.grüne), axis = 1)\n",
    "\n",
    "# btw_df = btw_df[['Kreis', 'Gültige Zweitstimmen', 'CDU Zweitstimmen', ]]"
   ]
  },
  {
   "cell_type": "code",
   "execution_count": 89,
   "metadata": {},
   "outputs": [
    {
     "data": {
      "text/html": [
       "<div>\n",
       "<style scoped>\n",
       "    .dataframe tbody tr th:only-of-type {\n",
       "        vertical-align: middle;\n",
       "    }\n",
       "\n",
       "    .dataframe tbody tr th {\n",
       "        vertical-align: top;\n",
       "    }\n",
       "\n",
       "    .dataframe thead th {\n",
       "        text-align: right;\n",
       "    }\n",
       "</style>\n",
       "<table border=\"1\" class=\"dataframe\">\n",
       "  <thead>\n",
       "    <tr style=\"text-align: right;\">\n",
       "      <th></th>\n",
       "      <th>wahlkreis</th>\n",
       "      <th>land</th>\n",
       "      <th>regierungsbezirk</th>\n",
       "      <th>kreis</th>\n",
       "      <th>verbandsgemeinde</th>\n",
       "      <th>gemeinde</th>\n",
       "      <th>kennziffer_urnenwahlbezirke_nach_§_68_bwo</th>\n",
       "      <th>kennziffer_briefwahlzugehörigkeit</th>\n",
       "      <th>gemeinde_name</th>\n",
       "      <th>wahlbezirk</th>\n",
       "      <th>...</th>\n",
       "      <th>bündnis21</th>\n",
       "      <th>liebe</th>\n",
       "      <th>lkr</th>\n",
       "      <th>pdf</th>\n",
       "      <th>lfk</th>\n",
       "      <th>ssw</th>\n",
       "      <th>team_todenhöfer</th>\n",
       "      <th>unabhängige</th>\n",
       "      <th>volt</th>\n",
       "      <th>ungekürzte_wahlbezirksbezeichnung</th>\n",
       "    </tr>\n",
       "  </thead>\n",
       "  <tbody>\n",
       "    <tr>\n",
       "      <th>5073</th>\n",
       "      <td>018</td>\n",
       "      <td>02</td>\n",
       "      <td>0</td>\n",
       "      <td>01</td>\n",
       "      <td>0000</td>\n",
       "      <td>000</td>\n",
       "      <td>0000</td>\n",
       "      <td>00</td>\n",
       "      <td>Hamburg, Freie und Hansestadt, Bezirk Hamburg-...</td>\n",
       "      <td>10101</td>\n",
       "      <td>...</td>\n",
       "      <td>0</td>\n",
       "      <td>0</td>\n",
       "      <td>1</td>\n",
       "      <td>0</td>\n",
       "      <td>0</td>\n",
       "      <td>0</td>\n",
       "      <td>3</td>\n",
       "      <td>0</td>\n",
       "      <td>1</td>\n",
       "      <td>10101</td>\n",
       "    </tr>\n",
       "    <tr>\n",
       "      <th>5074</th>\n",
       "      <td>018</td>\n",
       "      <td>02</td>\n",
       "      <td>0</td>\n",
       "      <td>01</td>\n",
       "      <td>0000</td>\n",
       "      <td>000</td>\n",
       "      <td>0000</td>\n",
       "      <td>00</td>\n",
       "      <td>Hamburg, Freie und Hansestadt, Bezirk Hamburg-...</td>\n",
       "      <td>10201</td>\n",
       "      <td>...</td>\n",
       "      <td>1</td>\n",
       "      <td>0</td>\n",
       "      <td>0</td>\n",
       "      <td>0</td>\n",
       "      <td>0</td>\n",
       "      <td>0</td>\n",
       "      <td>2</td>\n",
       "      <td>0</td>\n",
       "      <td>5</td>\n",
       "      <td>10201</td>\n",
       "    </tr>\n",
       "    <tr>\n",
       "      <th>5075</th>\n",
       "      <td>018</td>\n",
       "      <td>02</td>\n",
       "      <td>0</td>\n",
       "      <td>01</td>\n",
       "      <td>0000</td>\n",
       "      <td>000</td>\n",
       "      <td>0000</td>\n",
       "      <td>00</td>\n",
       "      <td>Hamburg, Freie und Hansestadt, Bezirk Hamburg-...</td>\n",
       "      <td>14201</td>\n",
       "      <td>...</td>\n",
       "      <td>0</td>\n",
       "      <td>0</td>\n",
       "      <td>0</td>\n",
       "      <td>0</td>\n",
       "      <td>0</td>\n",
       "      <td>0</td>\n",
       "      <td>0</td>\n",
       "      <td>0</td>\n",
       "      <td>0</td>\n",
       "      <td>14201</td>\n",
       "    </tr>\n",
       "    <tr>\n",
       "      <th>5076</th>\n",
       "      <td>018</td>\n",
       "      <td>02</td>\n",
       "      <td>0</td>\n",
       "      <td>01</td>\n",
       "      <td>0000</td>\n",
       "      <td>000</td>\n",
       "      <td>0000</td>\n",
       "      <td>00</td>\n",
       "      <td>Hamburg, Freie und Hansestadt, Bezirk Hamburg-...</td>\n",
       "      <td>10301</td>\n",
       "      <td>...</td>\n",
       "      <td>0</td>\n",
       "      <td>0</td>\n",
       "      <td>0</td>\n",
       "      <td>0</td>\n",
       "      <td>0</td>\n",
       "      <td>0</td>\n",
       "      <td>8</td>\n",
       "      <td>0</td>\n",
       "      <td>3</td>\n",
       "      <td>10301</td>\n",
       "    </tr>\n",
       "    <tr>\n",
       "      <th>5077</th>\n",
       "      <td>018</td>\n",
       "      <td>02</td>\n",
       "      <td>0</td>\n",
       "      <td>01</td>\n",
       "      <td>0000</td>\n",
       "      <td>000</td>\n",
       "      <td>0000</td>\n",
       "      <td>00</td>\n",
       "      <td>Hamburg, Freie und Hansestadt, Bezirk Hamburg-...</td>\n",
       "      <td>10302</td>\n",
       "      <td>...</td>\n",
       "      <td>0</td>\n",
       "      <td>0</td>\n",
       "      <td>0</td>\n",
       "      <td>0</td>\n",
       "      <td>0</td>\n",
       "      <td>0</td>\n",
       "      <td>0</td>\n",
       "      <td>0</td>\n",
       "      <td>2</td>\n",
       "      <td>10302</td>\n",
       "    </tr>\n",
       "  </tbody>\n",
       "</table>\n",
       "<p>5 rows × 53 columns</p>\n",
       "</div>"
      ],
      "text/plain": [
       "     wahlkreis land regierungsbezirk kreis verbandsgemeinde gemeinde  \\\n",
       "5073       018   02                0    01             0000      000   \n",
       "5074       018   02                0    01             0000      000   \n",
       "5075       018   02                0    01             0000      000   \n",
       "5076       018   02                0    01             0000      000   \n",
       "5077       018   02                0    01             0000      000   \n",
       "\n",
       "     kennziffer_urnenwahlbezirke_nach_§_68_bwo  \\\n",
       "5073                                      0000   \n",
       "5074                                      0000   \n",
       "5075                                      0000   \n",
       "5076                                      0000   \n",
       "5077                                      0000   \n",
       "\n",
       "     kennziffer_briefwahlzugehörigkeit  \\\n",
       "5073                                00   \n",
       "5074                                00   \n",
       "5075                                00   \n",
       "5076                                00   \n",
       "5077                                00   \n",
       "\n",
       "                                          gemeinde_name wahlbezirk  ...  \\\n",
       "5073  Hamburg, Freie und Hansestadt, Bezirk Hamburg-...      10101  ...   \n",
       "5074  Hamburg, Freie und Hansestadt, Bezirk Hamburg-...      10201  ...   \n",
       "5075  Hamburg, Freie und Hansestadt, Bezirk Hamburg-...      14201  ...   \n",
       "5076  Hamburg, Freie und Hansestadt, Bezirk Hamburg-...      10301  ...   \n",
       "5077  Hamburg, Freie und Hansestadt, Bezirk Hamburg-...      10302  ...   \n",
       "\n",
       "     bündnis21 liebe lkr pdf lfk ssw team_todenhöfer unabhängige volt  \\\n",
       "5073         0     0   1   0   0   0               3           0    1   \n",
       "5074         1     0   0   0   0   0               2           0    5   \n",
       "5075         0     0   0   0   0   0               0           0    0   \n",
       "5076         0     0   0   0   0   0               8           0    3   \n",
       "5077         0     0   0   0   0   0               0           0    2   \n",
       "\n",
       "     ungekürzte_wahlbezirksbezeichnung  \n",
       "5073                             10101  \n",
       "5074                             10201  \n",
       "5075                             14201  \n",
       "5076                             10301  \n",
       "5077                             10302  \n",
       "\n",
       "[5 rows x 53 columns]"
      ]
     },
     "execution_count": 89,
     "metadata": {},
     "output_type": "execute_result"
    }
   ],
   "source": [
    "btw_df.head()"
   ]
  },
  {
   "attachments": {},
   "cell_type": "markdown",
   "metadata": {},
   "source": [
    "# Accidents"
   ]
  },
  {
   "cell_type": "code",
   "execution_count": 11,
   "metadata": {},
   "outputs": [
    {
     "data": {
      "text/plain": [
       "'/Users/tobias/Git/gds/Data/btw21_wbz'"
      ]
     },
     "execution_count": 11,
     "metadata": {},
     "output_type": "execute_result"
    }
   ],
   "source": [
    "os.getcwd()"
   ]
  },
  {
   "cell_type": "code",
   "execution_count": 13,
   "metadata": {},
   "outputs": [],
   "source": [
    "acc_df = gpd.read_file(\"/Users/tobias/Git/gds/Data/Shapefile/Unfallorte2021_LinRef.shp\")"
   ]
  },
  {
   "cell_type": "code",
   "execution_count": null,
   "metadata": {},
   "outputs": [],
   "source": []
  }
 ],
 "metadata": {
  "kernelspec": {
   "display_name": "base",
   "language": "python",
   "name": "python3"
  },
  "language_info": {
   "codemirror_mode": {
    "name": "ipython",
    "version": 3
   },
   "file_extension": ".py",
   "mimetype": "text/x-python",
   "name": "python",
   "nbconvert_exporter": "python",
   "pygments_lexer": "ipython3",
   "version": "3.9.16"
  },
  "orig_nbformat": 4
 },
 "nbformat": 4,
 "nbformat_minor": 2
}
